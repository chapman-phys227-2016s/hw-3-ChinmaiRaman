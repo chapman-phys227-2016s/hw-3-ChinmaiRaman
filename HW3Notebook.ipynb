{
 "cells": [
  {
   "cell_type": "code",
   "execution_count": 2,
   "metadata": {
    "collapsed": false
   },
   "outputs": [],
   "source": [
    "import numpy as np\n",
    "import math\n",
    "\n",
    "import loan as p1\n",
    "import root_finder_examples as p2\n",
    "\n",
    "import sin_Taylor_series_diffeq as p4\n",
    "\n",
    "import matplotlib.pyplot as plt\n",
    "\n",
    "# Needed only in Jupyter to render properly in-notebook\n",
    "%matplotlib inline"
   ]
  },
  {
   "cell_type": "markdown",
   "metadata": {},
   "source": [
    "# Chinmai Raman\n",
    "\n",
    "## Homework 3\n",
    "\n",
    "### A.4 Solving a system of difference equations\n",
    "\n",
    "Computes the development of a loan over time.\n",
    "\n",
    "The below function calculates the amount paid per month (the first array) and the amount left to be paid (the second array) at each month of the year at a principal of $10,000 to be paid over 1 year at annual interest rate of 6%"
   ]
  },
  {
   "cell_type": "code",
   "execution_count": 2,
   "metadata": {
    "collapsed": false
   },
   "outputs": [
    {
     "data": {
      "text/plain": [
       "(array([   0.        ,  883.33333333,  879.16666667,  875.        ,\n",
       "         870.83333333,  866.66666667,  862.5       ,  858.33333333,\n",
       "         854.16666667,  850.        ,  845.83333333,  841.66666667,  837.5       ]),\n",
       " array([  1.00000000e+04,   9.16666667e+03,   8.33333333e+03,\n",
       "          7.50000000e+03,   6.66666667e+03,   5.83333333e+03,\n",
       "          5.00000000e+03,   4.16666667e+03,   3.33333333e+03,\n",
       "          2.50000000e+03,   1.66666667e+03,   8.33333333e+02,\n",
       "         -7.95807864e-13]))"
      ]
     },
     "execution_count": 2,
     "metadata": {},
     "output_type": "execute_result"
    }
   ],
   "source": [
    "p1.loan(6, 10000, 12)"
   ]
  },
  {
   "cell_type": "markdown",
   "metadata": {},
   "source": [
    "### A.11 Testing different methods of root finding"
   ]
  },
  {
   "cell_type": "markdown",
   "metadata": {},
   "source": [
    "#### $f(x) = Sin(x)$"
   ]
  },
  {
   "cell_type": "code",
   "execution_count": 3,
   "metadata": {
    "collapsed": false
   },
   "outputs": [
    {
     "data": {
      "image/png": "[encoded data removed]",
      "text/plain": [
       "<matplotlib.figure.Figure at 0x7fc35cfac5d0>"
      ]
     },
     "metadata": {},
     "output_type": "display_data"
    }
   ],
   "source": [
    "p2.graph(p2.f1, 100, -2 * np.pi, 2 * np.pi)"
   ]
  },
  {
   "cell_type": "code",
   "execution_count": 3,
   "metadata": {
    "collapsed": false
   },
   "outputs": [
    {
     "data": {
      "text/plain": [
       "array([-4.        , -2.84217872, -3.15087294, -3.14159239, -3.14159265])"
      ]
     },
     "execution_count": 3,
     "metadata": {},
     "output_type": "execute_result"
    }
   ],
   "source": [
    "p2.Newton(p2.f1, p2.f1prime, -4)"
   ]
  },
  {
   "cell_type": "code",
   "execution_count": 2,
   "metadata": {
    "collapsed": false
   },
   "outputs": [
    {
     "data": {
      "text/plain": [
       "[-3.0,\n",
       " -3.5,\n",
       " -3.25,\n",
       " -3.125,\n",
       " -3.1875,\n",
       " -3.15625,\n",
       " -3.140625,\n",
       " -3.1484375,\n",
       " -3.14453125,\n",
       " -3.142578125,\n",
       " -3.1416015625]"
      ]
     },
     "execution_count": 2,
     "metadata": {},
     "output_type": "execute_result"
    }
   ],
   "source": [
    "p2.bisect(p2.f1, -4, -2)"
   ]
  },
  {
   "cell_type": "code",
   "execution_count": 3,
   "metadata": {
    "collapsed": false
   },
   "outputs": [
    {
     "data": {
      "text/plain": [
       "array([-4.5       , -3.5       , -2.94031118, -3.14349649, -3.14157986])"
      ]
     },
     "execution_count": 3,
     "metadata": {},
     "output_type": "execute_result"
    }
   ],
   "source": [
    "p2.secant(p2.f1, -4.5, -3.5)"
   ]
  },
  {
   "cell_type": "markdown",
   "metadata": {},
   "source": [
    "#### $f(x) = x - sin(x)$"
   ]
  },
  {
   "cell_type": "code",
   "execution_count": 4,
   "metadata": {
    "collapsed": false
   },
   "outputs": [
    {
     "data": {
      "image/png": "[encoded data removed]",
      "text/plain": [
       "<matplotlib.figure.Figure at 0x7f96e00468d0>"
      ]
     },
     "metadata": {},
     "output_type": "display_data"
    }
   ],
   "source": [
    "p2.graph(p2.f2, 100, -np.pi, np.pi)"
   ]
  },
  {
   "cell_type": "code",
   "execution_count": 5,
   "metadata": {
    "collapsed": false
   },
   "outputs": [
    {
     "data": {
      "text/plain": [
       "array([ 1.        ,  0.65514507,  0.43359037,  0.2881484 ,  0.19183231,\n",
       "        0.12780967,  0.08518323,  0.05678195,  0.0378526 ,  0.02523446,\n",
       "        0.0168228 ,  0.01121515,  0.00747675])"
      ]
     },
     "execution_count": 5,
     "metadata": {},
     "output_type": "execute_result"
    }
   ],
   "source": [
    "p2.Newton(p2.f2, p2.f2prime, 1)"
   ]
  },
  {
   "cell_type": "code",
   "execution_count": 8,
   "metadata": {
    "collapsed": false
   },
   "outputs": [
    {
     "data": {
      "text/plain": [
       "[0.0,\n",
       " -0.5,\n",
       " -0.25,\n",
       " -0.125,\n",
       " -0.0625,\n",
       " -0.03125,\n",
       " -0.015625,\n",
       " -0.0078125,\n",
       " -0.00390625,\n",
       " -0.001953125,\n",
       " -0.0009765625]"
      ]
     },
     "execution_count": 8,
     "metadata": {},
     "output_type": "execute_result"
    }
   ],
   "source": [
    "p2.bisect(p2.f2, -1, 1)"
   ]
  },
  {
   "cell_type": "code",
   "execution_count": 9,
   "metadata": {
    "collapsed": false
   },
   "outputs": [
    {
     "data": {
      "text/plain": [
       "array([-2.        , -1.        , -0.82993616, -0.59447066, -0.45395989,\n",
       "       -0.33964378, -0.25661945, -0.19337445, -0.14595533, -0.11013331,\n",
       "       -0.08312856, -0.06274507, -0.04736282, -0.035752  ])"
      ]
     },
     "execution_count": 9,
     "metadata": {},
     "output_type": "execute_result"
    }
   ],
   "source": [
    "p2.secant(p2.f2, -2, -1)"
   ]
  },
  {
   "cell_type": "markdown",
   "metadata": {},
   "source": [
    "#### $f(x) = x^5  - sin x$"
   ]
  },
  {
   "cell_type": "code",
   "execution_count": 7,
   "metadata": {
    "collapsed": false
   },
   "outputs": [
    {
     "data": {
      "image/png": "[encoded data removed]",
      "text/plain": [
       "<matplotlib.figure.Figure at 0x7f96dbdc72d0>"
      ]
     },
     "metadata": {},
     "output_type": "display_data"
    }
   ],
   "source": [
    "p2.graph(p2.f3, 100, -np.pi / 2, np.pi / 2)"
   ]
  },
  {
   "cell_type": "code",
   "execution_count": 7,
   "metadata": {
    "collapsed": false
   },
   "outputs": [
    {
     "data": {
      "text/plain": [
       "array([-1.        , -0.96445297, -0.96106599, -0.96103694])"
      ]
     },
     "execution_count": 7,
     "metadata": {},
     "output_type": "execute_result"
    }
   ],
   "source": [
    "p2.Newton(p2.f3, p2.f3prime, -1)"
   ]
  },
  {
   "cell_type": "code",
   "execution_count": 5,
   "metadata": {
    "collapsed": false
   },
   "outputs": [
    {
     "data": {
      "text/plain": [
       "[0.0,\n",
       " -0.5,\n",
       " -0.75,\n",
       " -0.875,\n",
       " -0.9375,\n",
       " -0.96875,\n",
       " -0.953125,\n",
       " -0.9609375,\n",
       " -0.96484375,\n",
       " -0.962890625,\n",
       " -0.9619140625]"
      ]
     },
     "execution_count": 5,
     "metadata": {},
     "output_type": "execute_result"
    }
   ],
   "source": [
    "p2.bisect(p2.f3, -1, 1)"
   ]
  },
  {
   "cell_type": "code",
   "execution_count": 6,
   "metadata": {
    "collapsed": false
   },
   "outputs": [
    {
     "data": {
      "text/plain": [
       "array([-1.        , -0.5       , -0.86935238, -1.41540126, -0.89878402,\n",
       "       -0.91950244, -0.96874678, -0.96018937, -0.96102068])"
      ]
     },
     "execution_count": 6,
     "metadata": {},
     "output_type": "execute_result"
    }
   ],
   "source": [
    "p2.secant(p2.f3, -1, -0.5)"
   ]
  },
  {
   "cell_type": "markdown",
   "metadata": {},
   "source": [
    "#### $f(x) = x^4sinx$"
   ]
  },
  {
   "cell_type": "code",
   "execution_count": 8,
   "metadata": {
    "collapsed": false
   },
   "outputs": [
    {
     "data": {
      "image/png": "[encoded data removed]",
      "text/plain": [
       "<matplotlib.figure.Figure at 0x7f96dbd7aed0>"
      ]
     },
     "metadata": {},
     "output_type": "display_data"
    }
   ],
   "source": [
    "p2.graph(p2.f4, 100, -2 * np.pi, 2 * np.pi)"
   ]
  },
  {
   "cell_type": "code",
   "execution_count": 12,
   "metadata": {
    "collapsed": false
   },
   "outputs": [
    {
     "data": {
      "text/plain": [
       "array([-4.        , -3.46343041, -3.22270163, -3.14886404, -3.14165908,\n",
       "       -3.14159266, -3.14159265])"
      ]
     },
     "execution_count": 12,
     "metadata": {},
     "output_type": "execute_result"
    }
   ],
   "source": [
    "p2.Newton(p2.f4, p2.f4prime, -4)"
   ]
  },
  {
   "cell_type": "code",
   "execution_count": 13,
   "metadata": {
    "collapsed": false
   },
   "outputs": [
    {
     "data": {
      "text/plain": [
       "[-3.0,\n",
       " -3.5,\n",
       " -3.25,\n",
       " -3.125,\n",
       " -3.1875,\n",
       " -3.15625,\n",
       " -3.140625,\n",
       " -3.1484375,\n",
       " -3.14453125,\n",
       " -3.142578125,\n",
       " -3.1416015625]"
      ]
     },
     "execution_count": 13,
     "metadata": {},
     "output_type": "execute_result"
    }
   ],
   "source": [
    "p2.bisect(p2.f4, -4, -2)"
   ]
  },
  {
   "cell_type": "code",
   "execution_count": 14,
   "metadata": {
    "collapsed": false
   },
   "outputs": [
    {
     "data": {
      "text/plain": [
       "array([-5.        , -4.        , -3.52231752, -3.32221563, -3.19821657,\n",
       "       -3.15222126, -3.14231362, -3.14160231, -3.14159266])"
      ]
     },
     "execution_count": 14,
     "metadata": {},
     "output_type": "execute_result"
    }
   ],
   "source": [
    "p2.secant(p2.f4, -5, -4)"
   ]
  },
  {
   "cell_type": "markdown",
   "metadata": {},
   "source": [
    "#### $f(x) = x^4 - 16$"
   ]
  },
  {
   "cell_type": "code",
   "execution_count": 9,
   "metadata": {
    "collapsed": false
   },
   "outputs": [
    {
     "data": {
      "image/png": "[encoded data removed]",
      "text/plain": [
       "<matplotlib.figure.Figure at 0x7f96dbd7af10>"
      ]
     },
     "metadata": {},
     "output_type": "display_data"
    }
   ],
   "source": [
    "p2.graph(p2.f5, 100, -2 * np.pi, 2 * np.pi)"
   ]
  },
  {
   "cell_type": "code",
   "execution_count": 15,
   "metadata": {
    "collapsed": false
   },
   "outputs": [
    {
     "data": {
      "text/plain": [
       "array([-3.        , -2.39814815, -2.08863379, -2.00548401, -2.00002245, -2.        ])"
      ]
     },
     "execution_count": 15,
     "metadata": {},
     "output_type": "execute_result"
    }
   ],
   "source": [
    "p2.Newton(p2.f5, p2.f5prime, -3)"
   ]
  },
  {
   "cell_type": "code",
   "execution_count": 17,
   "metadata": {
    "collapsed": false
   },
   "outputs": [
    {
     "data": {
      "text/plain": [
       "[-2.0,\n",
       " -2.5,\n",
       " -2.25,\n",
       " -2.125,\n",
       " -2.0625,\n",
       " -2.03125,\n",
       " -2.015625,\n",
       " -2.0078125,\n",
       " -2.00390625,\n",
       " -2.001953125,\n",
       " -2.0009765625]"
      ]
     },
     "execution_count": 17,
     "metadata": {},
     "output_type": "execute_result"
    }
   ],
   "source": [
    "p2.bisect(p2.f5, -3, -1)"
   ]
  },
  {
   "cell_type": "code",
   "execution_count": 18,
   "metadata": {
    "collapsed": false
   },
   "outputs": [
    {
     "data": {
      "text/plain": [
       "array([-4.        , -3.        , -2.62857143, -2.27412522, -2.09269719,\n",
       "       -2.01647656, -2.00109513, -2.00001343, -2.00000001])"
      ]
     },
     "execution_count": 18,
     "metadata": {},
     "output_type": "execute_result"
    }
   ],
   "source": [
    "p2.secant(p2.f5, -4, -3)"
   ]
  },
  {
   "cell_type": "markdown",
   "metadata": {},
   "source": [
    "#### $f(x) = x^{10} - 1$"
   ]
  },
  {
   "cell_type": "code",
   "execution_count": 10,
   "metadata": {
    "collapsed": false
   },
   "outputs": [
    {
     "data": {
      "image/png": "[encoded data removed]",
      "text/plain": [
       "<matplotlib.figure.Figure at 0x7f96dbd7a790>"
      ]
     },
     "metadata": {},
     "output_type": "display_data"
    }
   ],
   "source": [
    "p2.graph(p2.f6, 100, -2 * np.pi, 2 * np.pi)"
   ]
  },
  {
   "cell_type": "code",
   "execution_count": 2,
   "metadata": {
    "collapsed": false
   },
   "outputs": [
    {
     "data": {
      "text/plain": [
       "array([ 2.        ,  1.80019531,  1.62067942,  1.45990784,  1.31723655,\n",
       "        1.19388869,  1.09479185,  1.02957313,  1.00354395,  1.00005579,\n",
       "        1.00000001,  1.        ])"
      ]
     },
     "execution_count": 2,
     "metadata": {},
     "output_type": "execute_result"
    }
   ],
   "source": [
    "p2.Newton(p2.f6, p2.f6prime, 2)"
   ]
  },
  {
   "cell_type": "code",
   "execution_count": 5,
   "metadata": {
    "collapsed": false
   },
   "outputs": [
    {
     "data": {
      "text/plain": [
       "[1.0,\n",
       " 0.5,\n",
       " 0.75,\n",
       " 0.875,\n",
       " 0.9375,\n",
       " 0.96875,\n",
       " 0.984375,\n",
       " 0.9921875,\n",
       " 0.99609375,\n",
       " 0.998046875,\n",
       " 0.9990234375]"
      ]
     },
     "execution_count": 5,
     "metadata": {},
     "output_type": "execute_result"
    }
   ],
   "source": [
    "p2.bisect(p2.f6, 0, 2)"
   ]
  },
  {
   "cell_type": "code",
   "execution_count": 6,
   "metadata": {
    "collapsed": false
   },
   "outputs": [
    {
     "data": {
      "text/plain": [
       "array([ 3.        ,  2.        ,  1.98236967,  1.79214077,  1.68328166,\n",
       "        1.55903311,  1.45252881,  1.35151274,  1.26056759,  1.17916623,\n",
       "        1.10992776,  1.05600265,  1.02090694,  1.00459446,  1.0004126 ,\n",
       "        1.00000845])"
      ]
     },
     "execution_count": 6,
     "metadata": {},
     "output_type": "execute_result"
    }
   ],
   "source": [
    "p2.secant(p2.f6, 3, 2)"
   ]
  },
  {
   "cell_type": "markdown",
   "metadata": {},
   "source": [
    "#### $tanh(x) - x^{10}$"
   ]
  },
  {
   "cell_type": "code",
   "execution_count": 11,
   "metadata": {
    "collapsed": false
   },
   "outputs": [
    {
     "data": {
      "image/png": "[encoded data removed]",
      "text/plain": [
       "<matplotlib.figure.Figure at 0x7f96dbc5cd90>"
      ]
     },
     "metadata": {},
     "output_type": "display_data"
    }
   ],
   "source": [
    "p2.graph(p2.f7, 100, -2 * np.pi, 2 * np.pi)"
   ]
  },
  {
   "cell_type": "code",
   "execution_count": 8,
   "metadata": {
    "collapsed": false
   },
   "outputs": [
    {
     "data": {
      "text/plain": [
       "array([ 1.        ,  0.97511428,  0.97162416,  0.97156264,  0.97156262])"
      ]
     },
     "execution_count": 8,
     "metadata": {},
     "output_type": "execute_result"
    }
   ],
   "source": [
    "p2.Newton(p2.f7, p2.f7prime, 1)"
   ]
  },
  {
   "cell_type": "code",
   "execution_count": 11,
   "metadata": {
    "collapsed": false
   },
   "outputs": [
    {
     "data": {
      "text/plain": [
       "[1.25,\n",
       " 0.875,\n",
       " 1.0625,\n",
       " 0.96875,\n",
       " 1.015625,\n",
       " 0.9921875,\n",
       " 0.98046875,\n",
       " 0.974609375,\n",
       " 0.9716796875,\n",
       " 0.97021484375,\n",
       " 0.970947265625]"
      ]
     },
     "execution_count": 11,
     "metadata": {},
     "output_type": "execute_result"
    }
   ],
   "source": [
    "p2.bisect(p2.f7, 0.5, 2)"
   ]
  },
  {
   "cell_type": "code",
   "execution_count": 15,
   "metadata": {
    "collapsed": false
   },
   "outputs": [
    {
     "data": {
      "text/plain": [
       "array([ 3.        ,  2.        ,  1.98236904,  1.79213013,  1.68325462,\n",
       "        1.55895892,  1.45235015,  1.35108605,  1.25958823,  1.17698582,\n",
       "        1.10530645,  1.04691452,  1.00508266,  0.98156429,  0.97307408,\n",
       "        0.97163565,  0.97156317])"
      ]
     },
     "execution_count": 15,
     "metadata": {},
     "output_type": "execute_result"
    }
   ],
   "source": [
    "p2.secant(p2.f7, 3, 2)"
   ]
  },
  {
   "cell_type": "markdown",
   "metadata": {},
   "source": [
    "### A.13 Computing the arc length of a curve"
   ]
  },
  {
   "cell_type": "code",
   "execution_count": null,
   "metadata": {
    "collapsed": true
   },
   "outputs": [],
   "source": []
  },
  {
   "cell_type": "markdown",
   "metadata": {},
   "source": [
    "### A.14 Finding difference equations for computing sin(x)"
   ]
  },
  {
   "cell_type": "markdown",
   "metadata": {},
   "source": [
    "The accuracy of a Taylor polynomial improves as x decreases (moves closer to zero)."
   ]
  },
  {
   "cell_type": "code",
   "execution_count": 11,
   "metadata": {
    "collapsed": false
   },
   "outputs": [
    {
     "name": "stdout",
     "output_type": "stream",
     "text": [
      "[-0.7070959900908971, -0.7071067811796194, 0.7071067811796194, 0.7070959900908971]\n"
     ]
    }
   ],
   "source": [
    "x = [-3 * np.pi / 4.0, -np.pi / 4.0, np.pi / 4.0,  3 * np.pi / 4]\n",
    "N = [5, 5, 5, 5]\n",
    "n = 0\n",
    "Sn = []\n",
    "while n < 4:\n",
    "    Sn.append(p4.sin_Taylor(x[n], N[n])[0])\n",
    "    n += 1\n",
    "print Sn"
   ]
  },
  {
   "cell_type": "markdown",
   "metadata": {
    "collapsed": true
   },
   "source": [
    "The accuracy of a Taylor polynomial also improves as n increases."
   ]
  },
  {
   "cell_type": "code",
   "execution_count": 14,
   "metadata": {
    "collapsed": false
   },
   "outputs": [
    {
     "name": "stdout",
     "output_type": "stream",
     "text": [
      "[0.7046526512091675, 0.7071064695751781, 0.7071067811796194, 0.7071067811865475]\n"
     ]
    }
   ],
   "source": [
    "x = [np.pi / 4, np.pi / 4, np.pi / 4, np.pi / 4]\n",
    "N = [1, 3, 5, 10]\n",
    "n = 0\n",
    "Sn = []\n",
    "while n < 4:\n",
    "    Sn.append(p4.sin_Taylor(x[n], N[n])[0])\n",
    "    n += 1\n",
    "print Sn"
   ]
  }
 ],
 "metadata": {
  "kernelspec": {
   "display_name": "Python 2 (SageMath)",
   "language": "python",
   "name": "python2"
  },
  "language_info": {
   "codemirror_mode": {
    "name": "ipython",
    "version": 2
   },
   "file_extension": ".py",
   "mimetype": "text/x-python",
   "name": "python",
   "nbconvert_exporter": "python",
   "pygments_lexer": "ipython2",
   "version": "2.7.10"
  },
  "name": "HW3Notebook.ipynb"
 },
 "nbformat": 4,
 "nbformat_minor": 0
}
